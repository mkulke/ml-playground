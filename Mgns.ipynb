{
 "cells": [
  {
   "cell_type": "code",
   "execution_count": 1,
   "metadata": {
    "slideshow": {
     "slide_type": "skip"
    }
   },
   "outputs": [
    {
     "data": {
      "application/javascript": [
       "Jupyter.notebook.config.update({\n",
       "  'load_extensions': { 'vim_binding/vim_binding': true },\n",
       "});"
      ],
      "text/plain": [
       "<IPython.core.display.Javascript object>"
      ]
     },
     "metadata": {},
     "output_type": "display_data"
    }
   ],
   "source": [
    "%%javascript\n",
    "Jupyter.notebook.config.update({\n",
    "  'load_extensions': { 'vim_binding/vim_binding': true },\n",
    "});"
   ]
  },
  {
   "cell_type": "markdown",
   "metadata": {
    "slideshow": {
     "slide_type": "slide"
    }
   },
   "source": [
    "# Unravelling Neural Networks for Shallow Learners\n",
    "\n",
    "### Magnus Kulke, 19. April 2018 (magnus.kulke@moovel.com)\n",
    "\n",
    "<img src=\"img/moovel.png\" alt=\"moovel\" style=\"margin: auto; width: 200px;\"/>"
   ]
  },
  {
   "cell_type": "markdown",
   "metadata": {
    "slideshow": {
     "slide_type": "slide"
    }
   },
   "source": [
    "\n",
    "# Why?\n",
    "\n",
    "> When you boil it down, AI today is deep learning, and deep learning is backprop. \n",
    "\n",
    "[Somers, James: \"Is AI Riding a One-Trick Pony?\" in MIT Technology Review Sep 29th, 2017.](http://https://www.technologyreview.com/s/608911/is-ai-riding-a-one-trick-pony)\n",
    "\n",
    "## Examples\n",
    "\n",
    "* Autonomous Driving\n",
    "* Alpha Go\n",
    "* Diagnosis of diseases"
   ]
  },
  {
   "cell_type": "markdown",
   "metadata": {
    "slideshow": {
     "slide_type": "slide"
    }
   },
   "source": [
    "# Scope\n",
    "\n",
    "The presentation aims to build a basic understanding of how Neural Networks operate. The inner workings of a AI are usually obscured by convenient frameworks and abstractions (Tensorflow, MXNet). By retracing the underlying principles and eventually deriving a functional implementation from it, we can get insights on the features and limitation of contemporary AI technology.\n",
    "\n",
    "## Not covered\n",
    "\n",
    "* An exhaustive taxonomy of the ML field.\n",
    "* Alternative concepts (logistic regression, convoluation).\n",
    "* History, Evolution of NN."
   ]
  },
  {
   "cell_type": "markdown",
   "metadata": {
    "slideshow": {
     "slide_type": "skip"
    }
   },
   "source": [
    "# Caveat\n",
    "\n",
    "I'm clueless. My math skills are poor. For further reference on the respective topics please consult proper literature, which is manifold."
   ]
  },
  {
   "cell_type": "markdown",
   "metadata": {
    "slideshow": {
     "slide_type": "slide"
    }
   },
   "source": [
    "# Terminology\n",
    "\n",
    "## Machine Learning\n",
    "\n",
    "Procedure to improve a machine's assessments _iterativly_. Can be done \"supervised\" (using labeled training data) or \"unsupervised\" (pattern recognition, clustering).\n",
    "\n",
    "## Neural Network\n",
    "\n",
    "A ML method mostly used in supervised learning scenarios to classify data (regression). Emulates a model of perception and reaction found in biology. Input is processed by a network of Neurons, producing a meaningful output (feed forward). \n",
    "\n",
    "\n",
    "## Deep Learning\n",
    "\n",
    "Machine Learning method using deeply _layered_ Neural Networks. Neurons are arangend in _input_, _output_ layers and at least one _hidden_ layer."
   ]
  },
  {
   "cell_type": "markdown",
   "metadata": {
    "slideshow": {
     "slide_type": "slide"
    }
   },
   "source": [
    "# Machine Learning\n",
    "\n",
    "Instead of carefully crafted and proven-to-be-correct algorithms which presume a concious understanding of the problem domain, machine learning aims to close in to a solution using iterative improvements and embracing probabilistics and fuzzyness. The correctnes inherent to conventional engineering solutions is often not required for a certain class of issues.\n",
    "\n",
    "## Examples\n",
    "\n",
    "* `true | false` _vs_ `[0.001, 0.003, 0,781, 0.018]`\n",
    "* Semantic language model _vs_ (statistical) natural language processing (NLP)\n",
    "* NASA Mars Rover _vs_ web advertisement  "
   ]
  },
  {
   "cell_type": "markdown",
   "metadata": {
    "slideshow": {
     "slide_type": "subslide"
    }
   },
   "source": [
    "# Giraffes & Crocodiles\n",
    "\n",
    "* Simple example for ML algorithm: iteratively find a linear function which is able to _classify_ data.\n",
    "* Data point is put into a randomly choosen function. \n",
    "* Expected outcome is compared with the actual result, error delta is used to tweak the function.\n",
    "* Following iterations with other data points further tweak the function.\n",
    "* Tell giraffes from crocodiles by their prominent features: width and height.\n",
    "\n",
    "<img src=\"img/giraffes_and_crocodiles.jpg\" alt=\"giraffes and crocodiles\" style=\"margin: auto; width: 600px;\"/>"
   ]
  },
  {
   "cell_type": "code",
   "execution_count": 35,
   "metadata": {
    "slideshow": {
     "slide_type": "subslide"
    }
   },
   "outputs": [
    {
     "data": {
      "text/plain": [
       "<matplotlib.collections.PathCollection at 0x1043a2dd8>"
      ]
     },
     "execution_count": 35,
     "metadata": {},
     "output_type": "execute_result"
    },
    {
     "data": {
      "image/png": "[encoded data removed]",
      "text/plain": [
       "<matplotlib.figure.Figure at 0x10467cbe0>"
      ]
     },
     "metadata": {},
     "output_type": "display_data"
    }
   ],
   "source": [
    "import matplotlib.pyplot as plt\n",
    "\n",
    "giraffes = numpy.array([\n",
    "    [1.9, 5.5],\n",
    "    [2.5, 6.0],\n",
    "    [2.1, 5.2],\n",
    "])\n",
    "g_x, g_y = giraffes.T\n",
    "plt.scatter(g_x, g_y, c = 'gold')\n",
    "\n",
    "crocodiles = numpy.array([\n",
    "    [7.0, 0.6],\n",
    "    [5.5, 0.5],\n",
    "    [6.1, 0.5],\n",
    "])\n",
    "c_x, c_y = crocodiles.T\n",
    "plt.scatter(c_x, c_y, c = 'green')"
   ]
  },
  {
   "cell_type": "code",
   "execution_count": 37,
   "metadata": {
    "slideshow": {
     "slide_type": "subslide"
    }
   },
   "outputs": [
    {
     "data": {
      "text/plain": [
       "<matplotlib.collections.PathCollection at 0x104ae2ef0>"
      ]
     },
     "execution_count": 37,
     "metadata": {},
     "output_type": "execute_result"
    },
    {
     "data": {
      "image/png": "[encoded data removed]",
      "text/plain": [
       "<matplotlib.figure.Figure at 0x104aba9b0>"
      ]
     },
     "metadata": {},
     "output_type": "display_data"
    }
   ],
   "source": [
    "def some_linear_fn(x):\n",
    "    return 4 * x - 1\n",
    "\n",
    "x = numpy.linspace(0, 5)\n",
    "y = some_linear_fn(x)\n",
    "plt.plot(x, y, '--', linewidth=2)\n",
    "\n",
    "plt.scatter(g_x, g_y, c = 'gold')\n",
    "plt.scatter(c_x, c_y, c = 'green')"
   ]
  },
  {
   "cell_type": "code",
   "execution_count": 41,
   "metadata": {
    "slideshow": {
     "slide_type": "subslide"
    }
   },
   "outputs": [
    {
     "data": {
      "text/plain": [
       "<matplotlib.collections.PathCollection at 0x104dcaeb8>"
      ]
     },
     "execution_count": 41,
     "metadata": {},
     "output_type": "execute_result"
    },
    {
     "data": {
      "image/png": "[encoded data removed]",
      "text/plain": [
       "<matplotlib.figure.Figure at 0x104d44d30>"
      ]
     },
     "metadata": {},
     "output_type": "display_data"
    }
   ],
   "source": [
    "def some_linear_fn(x):\n",
    "    return 0.25 * x - 1\n",
    "\n",
    "x = numpy.linspace(0, 7)\n",
    "y = some_linear_fn(x)\n",
    "plt.plot(x, y, '--', linewidth=2)\n",
    "\n",
    "plt.scatter(g_x, g_y, c = 'gold')\n",
    "plt.scatter(c_x, c_y, c = 'green')"
   ]
  },
  {
   "cell_type": "code",
   "execution_count": 46,
   "metadata": {
    "slideshow": {
     "slide_type": "subslide"
    }
   },
   "outputs": [
    {
     "data": {
      "text/plain": [
       "<matplotlib.collections.PathCollection at 0x1050993c8>"
      ]
     },
     "execution_count": 46,
     "metadata": {},
     "output_type": "execute_result"
    },
    {
     "data": {
      "image/png": "[encoded data removed]",
      "text/plain": [
       "<matplotlib.figure.Figure at 0x1050045f8>"
      ]
     },
     "metadata": {},
     "output_type": "display_data"
    }
   ],
   "source": [
    "def some_linear_fn(x):\n",
    "    return 1 * x - 1\n",
    "\n",
    "x = numpy.linspace(0, 7)\n",
    "y = some_linear_fn(x)\n",
    "plt.plot(x, y, '--', linewidth=2)\n",
    "\n",
    "plt.scatter(g_x, g_y, c = 'gold')\n",
    "plt.scatter(c_x, c_y, c = 'green')"
   ]
  },
  {
   "cell_type": "markdown",
   "metadata": {
    "slideshow": {
     "slide_type": "subslide"
    }
   },
   "source": [
    "# Limitations\n",
    "\n",
    "When features in data have more complex relations than simple linear ones, linear regression does not work any more."
   ]
  },
  {
   "cell_type": "code",
   "execution_count": 73,
   "metadata": {
    "slideshow": {
     "slide_type": "skip"
    }
   },
   "outputs": [],
   "source": [
    "import matplotlib.pyplot as plt\n",
    "\n",
    "non_linear_a = numpy.array([\n",
    "    [5.9, 2],\n",
    "    [4.2, 3],\n",
    "    [2.5, 6.0],\n",
    "    [3.5, 3.2],\n",
    "    [2.1, 5.2],\n",
    "    [7.0, 0.6],\n",
    "])\n",
    "\n",
    "non_linear_b = numpy.array([\n",
    "    [5.5, 0.5],\n",
    "    [3.5, 1],\n",
    "    [2.5, 3.3],\n",
    "    [3,   2],\n",
    "    [2,   1],\n",
    "    [6.1, 0.5],\n",
    "    [5,   5],\n",
    "    [6.5, 4.5],\n",
    "    [6.1, 4.4],\n",
    "    [4.0, 4.8],\n",
    "    [6.6, 2.8],\n",
    "])"
   ]
  },
  {
   "cell_type": "code",
   "execution_count": 75,
   "metadata": {
    "slideshow": {
     "slide_type": "subslide"
    }
   },
   "outputs": [
    {
     "data": {
      "text/plain": [
       "<matplotlib.collections.PathCollection at 0x106186160>"
      ]
     },
     "execution_count": 75,
     "metadata": {},
     "output_type": "execute_result"
    },
    {
     "data": {
      "image/png": "[encoded data removed]",
      "text/plain": [
       "<matplotlib.figure.Figure at 0x105f8b908>"
      ]
     },
     "metadata": {},
     "output_type": "display_data"
    }
   ],
   "source": [
    "a_x, a_y = non_linear_a.T\n",
    "plt.scatter(a_x, a_y, c = 'gold')\n",
    "\n",
    "b_x, b_y = non_linear_b.T\n",
    "plt.scatter(b_x, b_y, c = 'green')"
   ]
  },
  {
   "cell_type": "markdown",
   "metadata": {
    "slideshow": {
     "slide_type": "slide"
    }
   },
   "source": [
    "# Neural Network\n",
    "\n",
    "* Artificial neural networks attempt to create artificial intelligence by emulating (simplified) biological concepts.\n",
    "* A Fruit fly has ~100.000 neurons\n",
    "* Modest complexity compared to contempary computers.\n",
    "* Still it's able to perform demanding tasks like evading obstacles, detect food, etc. \n",
    "* Computing-wise these are very demanding tasks.\n"
   ]
  },
  {
   "cell_type": "markdown",
   "metadata": {
    "slideshow": {
     "slide_type": "subslide"
    }
   },
   "source": [
    "# Dove Brain\n",
    "\n",
    "<img src=\"img/dove_neurons.png\" alt=\"ordinary vs parallel\" style=\"margin: auto; width: 400px;\"/>"
   ]
  },
  {
   "cell_type": "markdown",
   "metadata": {
    "slideshow": {
     "slide_type": "subslide"
    }
   },
   "source": [
    "# Model of a Neuron\n",
    "\n",
    "* Neuron receives input in the dendrites as a certain current flow.\n",
    "* When a (fuzzy) threshhold is crossed the neuron \"fires\" current itsself along an axon.\n",
    "* Terminals are themselves connected to dendrites of other neurons.\n",
    "* Axons can be imagined to have a certain diameter (_weight_), influencing its impact on other neurons.\n",
    "\n",
    "<img src=\"img/model_of_neuron.png\" alt=\"model of neuron\" style=\"margin: auto; width: 400px;\"/>"
   ]
  },
  {
   "cell_type": "markdown",
   "metadata": {
    "slideshow": {
     "slide_type": "subslide"
    }
   },
   "source": [
    "# Computational Representation\n",
    "\n",
    "* A NN's data consists of weights and neuron layer configurations.\n",
    "* On the input layer vectorized data input is fed (like sensorical stimuli)\n",
    "* Accordingly on the output layer there is output data in the same form.\n",
    "\n",
    "<img src=\"img/nn_sketch.png\" alt=\"nn sketch\" style=\"margin: auto; width: 400px;\"/>"
   ]
  },
  {
   "cell_type": "markdown",
   "metadata": {
    "slideshow": {
     "slide_type": "subslide"
    }
   },
   "source": [
    "# Activation Function\n",
    "\n",
    "* Neurons fire after a certain thresshold (_activation function_).\n",
    "* Instead of using a rigid on/off step function, we can mimik fuzzyness in natural neutrons.\n",
    "* Sigmoid is such a function.\n",
    "\n",
    "$\n",
    "\\begin{align}\n",
    "y = \\frac{1}{1 + e^{-x}}\n",
    "\\end{align}\n",
    "$"
   ]
  },
  {
   "cell_type": "code",
   "execution_count": null,
   "metadata": {
    "slideshow": {
     "slide_type": "skip"
    }
   },
   "outputs": [],
   "source": [
    "import matplotlib.pyplot as plt\n",
    "import scipy.special\n",
    "\n",
    "sigmoid = scipy.special.expit\n",
    "\n",
    "x = numpy.linspace(-5, 5)"
   ]
  },
  {
   "cell_type": "code",
   "execution_count": 92,
   "metadata": {
    "slideshow": {
     "slide_type": "fragment"
    }
   },
   "outputs": [
    {
     "data": {
      "text/plain": [
       "[<matplotlib.lines.Line2D at 0x10791e6d8>]"
      ]
     },
     "execution_count": 92,
     "metadata": {},
     "output_type": "execute_result"
    },
    {
     "data": {
      "image/png": "[encoded data removed]",
      "text/plain": [
       "<matplotlib.figure.Figure at 0x106194a20>"
      ]
     },
     "metadata": {},
     "output_type": "display_data"
    }
   ],
   "source": [
    "plt.plot(x, sigmoid(x), '--', linewidth=2)"
   ]
  },
  {
   "cell_type": "markdown",
   "metadata": {
    "slideshow": {
     "slide_type": "subslide"
    }
   },
   "source": [
    "# Calculation\n",
    "\n",
    "* Input layer does not use an activation function, it's representing the inputs.\n",
    "\n",
    "<img src=\"img/nn_calculation.png\" alt=\"nn calculation\" style=\"margin: auto; width: 400px;\"/>"
   ]
  },
  {
   "cell_type": "code",
   "execution_count": 95,
   "metadata": {
    "slideshow": {
     "slide_type": "fragment"
    }
   },
   "outputs": [
    {
     "data": {
      "text/plain": [
       "(0.6271477663131956, 0.5938731029341427)"
      ]
     },
     "execution_count": 95,
     "metadata": {},
     "output_type": "execute_result"
    }
   ],
   "source": [
    "i_1   = 1.0\n",
    "i_2   = 0.4\n",
    "w_1_1 = 0.4\n",
    "w_1_2 = 0.1\n",
    "w_2_1 = 0.3\n",
    "w_2_2 = 0.7\n",
    "\n",
    "o_1 = sigmoid(i_1 * w_1_1 + i_2 * w_2_1)\n",
    "o_2 = sigmoid(i_1 * w_1_2 + i_2 * w_2_2)\n",
    "o_1, o_2"
   ]
  },
  {
   "cell_type": "markdown",
   "metadata": {
    "slideshow": {
     "slide_type": "subslide"
    }
   },
   "source": [
    "# Digression: Matrix multiplication\n",
    "\n",
    "* Raw sequential computing power has been stagnant. Physical limitations are to blame.\n",
    "* Scaling has to happen _horizontally_ (e.g. multi-core CPUs, clusters), atomic units operate in parallel.\n",
    "* Algorithms have to be crafted around those circumstances.\n",
    "\n",
    "<img src=\"img/ordinary_vs_parallel.png\" alt=\"ordinary vs parallel\" style=\"margin: auto; width: 400px;\"/>"
   ]
  },
  {
   "cell_type": "markdown",
   "metadata": {
    "slideshow": {
     "slide_type": "subslide"
    }
   },
   "source": [
    "## Imperative interdependent code"
   ]
  },
  {
   "cell_type": "code",
   "execution_count": 84,
   "metadata": {
    "slideshow": {
     "slide_type": "fragment"
    }
   },
   "outputs": [
    {
     "data": {
      "text/plain": [
       "[1, 3, 7, 15, 31, 63, 127, 255, 511, 1023]"
      ]
     },
     "execution_count": 84,
     "metadata": {},
     "output_type": "execute_result"
    }
   ],
   "source": [
    "x = 0\n",
    "l = []\n",
    "for i in range(0, 10):\n",
    "    x = 2 * x + 1\n",
    "    l = l + [x]\n",
    "\n",
    "l"
   ]
  },
  {
   "cell_type": "markdown",
   "metadata": {
    "slideshow": {
     "slide_type": "fragment"
    }
   },
   "source": [
    "## Declaritive data-independent code"
   ]
  },
  {
   "cell_type": "code",
   "execution_count": 85,
   "metadata": {
    "slideshow": {
     "slide_type": "fragment"
    }
   },
   "outputs": [
    {
     "data": {
      "text/plain": [
       "[1, 3, 5, 7, 9, 11, 13, 15, 17, 19]"
      ]
     },
     "execution_count": 85,
     "metadata": {},
     "output_type": "execute_result"
    }
   ],
   "source": [
    "[2 * i + 1 for i in range(0, 10)]"
   ]
  },
  {
   "cell_type": "markdown",
   "metadata": {
    "slideshow": {
     "slide_type": "subslide"
    }
   },
   "source": [
    "# Graphical Processing Units (GPU)\n",
    "\n",
    "* Specialized hardware to aid the CPU in vector calculations (moving polygons around).\n",
    "* In use and refined for decades.\n",
    "* Chips have very few instructions, but do them very well and fast.\n",
    "* Incidentally on those operations GPUs is matrix multiplication.\n",
    "\n",
    "<img src=\"img/virtua-fighter.png\" alt=\"virtua fighter\" style=\"margin: auto; width: 400px;\"/>"
   ]
  },
  {
   "cell_type": "code",
   "execution_count": 86,
   "metadata": {
    "slideshow": {
     "slide_type": "subslide"
    }
   },
   "outputs": [
    {
     "data": {
      "text/plain": [
       "array([[19, 22],\n",
       "       [43, 50]])"
      ]
     },
     "execution_count": 86,
     "metadata": {},
     "output_type": "execute_result"
    }
   ],
   "source": [
    "import numpy\n",
    "\n",
    "a = numpy.asarray([[1, 2],\n",
    "                   [3, 4],\n",
    "                  ]) \n",
    "\n",
    "b = numpy.asarray([[5, 6],\n",
    "                   [7, 8],\n",
    "                  ]) \n",
    "\n",
    "a.dot(b)"
   ]
  },
  {
   "cell_type": "markdown",
   "metadata": {
    "slideshow": {
     "slide_type": "subslide"
    }
   },
   "source": [
    "# Output Layer calculation\n",
    "\n",
    "_Output_ is the dot product of _Weights_ and _Input_:\n",
    "\n",
    "$\n",
    "\\begin{align}\n",
    "\\mathbf{X} = \\mathbf{W \\cdot I}\n",
    "\\end{align}\n",
    "$\n",
    "\n",
    "## Example\n",
    "\n",
    "$\n",
    "\\begin{align}\n",
    "W = \n",
    "\\left[{\\begin{array}{cc}\n",
    "0,4 & 0,3 \\\\\n",
    "0,1 & 0,7 \\\\\n",
    "\\end{array} }\\right]\n",
    "\\end{align}\n",
    "$\n",
    "\n",
    "$\n",
    "\\begin{align}\n",
    "I = \n",
    "\\left[{\\begin{array}{c}\n",
    "1,0 \\\\\n",
    "0,4 \\\\\n",
    "\\end{array} }\\right]\n",
    "\\end{align}\n",
    "$"
   ]
  },
  {
   "cell_type": "code",
   "execution_count": 93,
   "metadata": {
    "slideshow": {
     "slide_type": "subslide"
    }
   },
   "outputs": [
    {
     "data": {
      "text/plain": [
       "array([[0.52],\n",
       "       [0.38]])"
      ]
     },
     "execution_count": 93,
     "metadata": {},
     "output_type": "execute_result"
    }
   ],
   "source": [
    "W = numpy.asarray([[0.4, 0.3],\n",
    "                   [0.1, 0.7],\n",
    "                  ]) \n",
    "I = numpy.asarray([[1.0],\n",
    "                   [0.4],\n",
    "                  ])\n",
    "\n",
    "X = W.dot(I)\n",
    "X"
   ]
  },
  {
   "cell_type": "code",
   "execution_count": null,
   "metadata": {
    "slideshow": {
     "slide_type": "skip"
    }
   },
   "outputs": [],
   "source": [
    "# equivalent to:\n",
    "# I = numpy.array([0.9, 0.5], ndmin=2).T"
   ]
  },
  {
   "cell_type": "markdown",
   "metadata": {
    "slideshow": {
     "slide_type": "fragment"
    }
   },
   "source": [
    "The activation function needs to be applied on the intermediate values in _X_ to produce an _output_ matrix:\n",
    "\n",
    "$\n",
    "\\begin{align}\n",
    "\\mathbf{O} = sigmoid(\\mathbf{X})\n",
    "\\end{align}\n",
    "$"
   ]
  },
  {
   "cell_type": "code",
   "execution_count": 94,
   "metadata": {
    "slideshow": {
     "slide_type": "fragment"
    }
   },
   "outputs": [
    {
     "data": {
      "text/plain": [
       "array([[0.62714777],\n",
       "       [0.5938731 ]])"
      ]
     },
     "execution_count": 94,
     "metadata": {},
     "output_type": "execute_result"
    }
   ],
   "source": [
    "O = sigmoid(X)\n",
    "O"
   ]
  },
  {
   "cell_type": "markdown",
   "metadata": {
    "slideshow": {
     "slide_type": "slide"
    }
   },
   "source": [
    "# Deep Learning\n",
    "\n",
    "* Improvement upon Neural Networks.\n",
    "* Hidden layers add some intermediate interpretation (abstraction?) to a NN, which helps at classifying.\n",
    "* Introduction of a _hidden_ layer.\n",
    "* Hidden layer propagates its output as input to the output layer (or another hidden layer).\n",
    "\n",
    "<img src=\"img/hidden_layer.png\" alt=\"hidden_layer\" style=\"margin: auto; width: 600px;\"/>"
   ]
  },
  {
   "cell_type": "markdown",
   "metadata": {
    "slideshow": {
     "slide_type": "subslide"
    }
   },
   "source": [
    "# Error Backpropagation\n",
    "\n",
    "* We can find out the delta of desired and actual outputs.\n",
    "* As weights have an impact on the output, the error is split proportionally.\n",
    "* The error is passed back to the former layers, where it can be used to tweak the weights.\n",
    "\n",
    "## Example\n",
    "\n",
    "<img src=\"img/error_split.png\" alt=\"split errors\" style=\"margin: auto; width: 300px;\"/>\n",
    "\n",
    "## Calculation\n",
    "\n",
    "* Again this can be expressed as simple and performant matrix multiplication.\n",
    "* Error of the hidden layer is the dot product of the transposed Matrix of weights between the hidden and the output layer.\n",
    "\n",
    "$\n",
    "\\begin{align}\n",
    "\\mathbf{E_h} = \\mathbf{W_{ho}^T \\cdot E_o}\n",
    "\\end{align}\n",
    "$"
   ]
  },
  {
   "cell_type": "markdown",
   "metadata": {
    "slideshow": {
     "slide_type": "subslide"
    }
   },
   "source": [
    "# Updating the weigths\n",
    "\n",
    "* Problem: Computing-wise it's not feasible to tweak the weights of even smaller deeply layered nets.\n",
    "* Trying out a single set of combinations for a net with 500 neurons per layer will take decades."
   ]
  },
  {
   "cell_type": "markdown",
   "metadata": {
    "slideshow": {
     "slide_type": "subslide"
    }
   },
   "source": [
    "# Stochastic Gradient Descent\n",
    "\n",
    "* Accepting this restriction, methods like SGD are used to iteratively minimize errors in complex equations. \n",
    "* Idea: Model the error function as an derivable function:\n",
    "\n",
    "$\n",
    "\\begin{align}\n",
    "\\mathbf{e} = (\\mathbf{t - o})^2\n",
    "\\end{align}\n",
    "$\n",
    "\n",
    "* Goal is to get to the very bottom (e = 0).\n",
    "* Perform \"steps\" in one direction on the function, asses whether the error fn at this point is ascending or descending at this position (using analysis) and move accordingly.\n",
    "* Step size is _learning rate_."
   ]
  },
  {
   "cell_type": "code",
   "execution_count": 130,
   "metadata": {
    "slideshow": {
     "slide_type": "subslide"
    }
   },
   "outputs": [
    {
     "data": {
      "text/plain": [
       "[<matplotlib.lines.Line2D at 0x10915a128>]"
      ]
     },
     "execution_count": 130,
     "metadata": {},
     "output_type": "execute_result"
    },
    {
     "data": {
      "image/png": "[encoded data removed]",
      "text/plain": [
       "<matplotlib.figure.Figure at 0x1090a3f28>"
      ]
     },
     "metadata": {},
     "output_type": "display_data"
    }
   ],
   "source": [
    "def some_quadratic_fn(x):\n",
    "    return pow(x - 1, 2) + 1\n",
    "\n",
    "x = numpy.linspace(0, 2)\n",
    "y = some_quadratic_fn(x)\n",
    "plt.plot(x, y, '--', linewidth=2)"
   ]
  },
  {
   "cell_type": "markdown",
   "metadata": {
    "slideshow": {
     "slide_type": "subslide"
    }
   },
   "source": [
    "# Dark Mountain Methapor\n",
    "\n",
    "* A wanderer is lost at nights in the mountain.\n",
    "* Wants to go the valley.\n",
    "* Has a flashlight and can move the light cone around to find a descent.\n",
    "\n",
    "<img src=\"img/dark_mountain.png\" alt=\"dark mountain\" style=\"margin: auto; width: 600px;\"/>"
   ]
  },
  {
   "cell_type": "markdown",
   "metadata": {
    "slideshow": {
     "slide_type": "subslide"
    }
   },
   "source": [
    "# Weight update function\n",
    "\n",
    "* The output depends on a multitude of connections and is wrapped in a sigmoid function.\n",
    "* The deravative expression is hence more complex (j, k indicating layers):\n",
    "\n",
    "\\begin{equation*}\n",
    "\\frac{\\partial E}{\\partial w_{jk}} = -(t_k - o_k) \\cdot sigmoid(\\sum_j w_{jk} \\cdot o_j)(1 - sigmoid(\\sum_{j} w_{jk} \\cdot o_j)) \\cdot o_j\n",
    "\\end{equation*}\n",
    "\n",
    "* Translation into matrix multiplication yields the following expression, which can be used in learning:\n",
    "\n",
    "\\begin{equation*}\n",
    "\\Delta W_{jk} = \\alpha \\cdot E_k \\cdot O_k(1 - O_k) \\cdot O_j^T\n",
    "\\end{equation*}"
   ]
  },
  {
   "cell_type": "code",
   "execution_count": 4,
   "metadata": {
    "collapsed": true,
    "slideshow": {
     "slide_type": "skip"
    }
   },
   "outputs": [],
   "source": [
    "import numpy\n",
    "import scipy.special\n",
    "import matplotlib.pyplot as plt\n",
    "%matplotlib inline\n",
    "\n",
    "# scale function to make sure we have a range from 0.01 to 0.99\n",
    "# sigmoid goes from > 0 to < 1\n",
    "scale = lambda i: (numpy.asfarray(i) / 255.0 * 0.99) + 0.01"
   ]
  },
  {
   "cell_type": "markdown",
   "metadata": {
    "slideshow": {
     "slide_type": "fragment"
    }
   },
   "source": [
    "# Thanks!\n",
    "\n",
    "...\n",
    "\n",
    "\n",
    "# Neural Network Implementation"
   ]
  },
  {
   "cell_type": "code",
   "execution_count": 98,
   "metadata": {},
   "outputs": [],
   "source": [
    "class NeuralNetwork:\n",
    "    def __init__(self, n_inputnodes, n_hiddennodes, n_outputnodes, learning_rate):\n",
    "        self.learning_rate = learning_rate\n",
    "      \n",
    "        self.wih = self._init_rnd_weights(n_inputnodes, n_hiddennodes)\n",
    "        self.who = self._init_rnd_weights(n_hiddennodes, n_outputnodes)\n",
    "\n",
    "        self.activation_function = scipy.special.expit\n",
    "        self.inverse_activation_function = scipy.special.logit\n",
    "        \n",
    "    def _init_rnd_weights(self, n_layer_1, n_layer_2):\n",
    "        weights = numpy.random.normal(0.0, pow(n_layer_1, -0.5), (n_layer_2, n_layer_1)) \n",
    "        \n",
    "        return weights\n",
    "        \n",
    "    def _calc_layer(self, weights, inputs):\n",
    "        weighted_inputs = numpy.dot(weights, inputs)\n",
    "        outputs = self.activation_function(weighted_inputs)\n",
    "        \n",
    "        return outputs\n",
    "\n",
    "    def _backprop(self, errors, outputs, inputs):\n",
    "        error_delta = self.learning_rate * numpy.dot(\n",
    "            (errors * outputs * (1.0 - outputs)), \n",
    "            inputs.T)\n",
    "        \n",
    "        return error_delta\n",
    "        \n",
    "    def train(self, inputs_list, targets_list):\n",
    "        inputs = numpy.array(inputs_list, ndmin=2).T\n",
    "        targets = numpy.array(targets_list, ndmin=2).T\n",
    "      \n",
    "        hidden_outputs = self._calc_layer(self.wih, inputs)\n",
    "        final_outputs = self._calc_layer(self.who, hidden_outputs)\n",
    "        \n",
    "        output_errors = targets - final_outputs\n",
    "        hidden_errors = numpy.dot(self.who.T, output_errors)\n",
    "        \n",
    "        self.who += self._backprop(output_errors, final_outputs, hidden_outputs)\n",
    "        self.wih += self._backprop(hidden_errors, hidden_outputs, inputs)\n",
    "        \n",
    "        pass\n",
    "   \n",
    "    def query(self, inputs_list):\n",
    "        # convert input into 2d array\n",
    "        inputs = numpy.array(inputs_list, ndmin=2).T\n",
    "       \n",
    "        hidden_outputs = self._calc_layer(self.wih, inputs)\n",
    "        final_outputs = self._calc_layer(self.who, hidden_outputs)\n",
    "        \n",
    "        return final_outputs\n",
    "  \n",
    "    # scale values to sth between 0.01 and 0.99\n",
    "    def _scale_values(self, values):\n",
    "        # to 0\n",
    "        values -= numpy.min(values)\n",
    "        # to 1\n",
    "        values /= numpy.max(values)\n",
    "        # bump it up to 0.01 - 0.99\n",
    "        values *= 0.98\n",
    "        values += 0.01\n",
    "        \n",
    "        pass\n",
    "\n",
    "    def backquery(self, targets_list):\n",
    "        # transpose the targets list to a vertical array\n",
    "        final_outputs = numpy.array(targets_list, ndmin=2).T\n",
    "        \n",
    "        # calculate the signal into the final output layer\n",
    "        final_inputs = self.inverse_activation_function(final_outputs)\n",
    "\n",
    "        # calculate the signal out of the hidden layer\n",
    "        hidden_outputs = numpy.dot(self.who.T, final_inputs)\n",
    "        self._scale_values(hidden_outputs)\n",
    "        \n",
    "        # calculate the signal into the hidden layer\n",
    "        hidden_inputs = self.inverse_activation_function(hidden_outputs)\n",
    "        \n",
    "        # calculate the signal out of the input layer\n",
    "        inputs = numpy.dot(self.wih.T, hidden_inputs)\n",
    "        self._scale_values(inputs)\n",
    "        \n",
    "        return inputs"
   ]
  },
  {
   "cell_type": "markdown",
   "metadata": {},
   "source": [
    "# Initialize NN\n",
    "\n",
    "Using a specified number of input, hidden and output nodes and a learning_rate."
   ]
  },
  {
   "cell_type": "code",
   "execution_count": 99,
   "metadata": {},
   "outputs": [],
   "source": [
    "no_of_output_nodes = 10\n",
    "no_of_input_nodes = 28 * 28\n",
    "no_of_hidden_nodes = 200\n",
    "learning_rate = 0.1\n",
    "mnist_nn = NeuralNetwork(no_of_input_nodes, no_of_hidden_nodes, no_of_output_nodes, learning_rate)"
   ]
  },
  {
   "cell_type": "markdown",
   "metadata": {},
   "source": [
    "# Helper functions"
   ]
  },
  {
   "cell_type": "code",
   "execution_count": 100,
   "metadata": {},
   "outputs": [],
   "source": [
    "def get_scaled_inputs(record):\n",
    "    fields = record.split(',')\n",
    "    pixels = fields[1:]\n",
    "    return (numpy.asfarray(pixels) / 255.0) * 0.99 + 0.01\n",
    "\n",
    "def train(network, epochs, records):\n",
    "    for e in range(epochs): \n",
    "        for record in records:\n",
    "            label = get_label(record)\n",
    "            inputs = get_scaled_inputs(record)\n",
    "            targets = numpy.zeros(no_of_output_nodes) + 0.01\n",
    "            targets[int(label)] = 0.99\n",
    "            network.train(inputs, targets)\n",
    "    pass\n",
    "\n",
    "def get_label(record):\n",
    "    fields = record.split(',')\n",
    "    return fields[0]\n",
    "\n",
    "def render_record(record):\n",
    "    fields = record.split(',')\n",
    "    label, pixels = fields[0], fields[1:]\n",
    "    image_array = numpy.asfarray(pixels).reshape((28, 28))\n",
    "    plt.imshow(image_array, cmap='Greys', interpolation='None')\n",
    "    pass\n",
    "\n",
    "def is_match(network, record):\n",
    "    label = get_label(record)\n",
    "    target_number = int(label)\n",
    "    inputs = get_scaled_inputs(record) \n",
    "    outputs = network.query(inputs)\n",
    "    result = numpy.argmax(outputs)\n",
    "    return 1 if result == target_number else 0\n",
    "\n",
    "def get_scores(network, records):\n",
    "    return [is_match(network, record) for record in records]"
   ]
  },
  {
   "cell_type": "markdown",
   "metadata": {},
   "source": [
    "# MNIST"
   ]
  },
  {
   "cell_type": "markdown",
   "metadata": {},
   "source": [
    "## Small data set"
   ]
  },
  {
   "cell_type": "markdown",
   "metadata": {},
   "source": [
    "### Load"
   ]
  },
  {
   "cell_type": "code",
   "execution_count": 102,
   "metadata": {},
   "outputs": [],
   "source": [
    "small_training_data_file = open(\"mnist_train_100.csv\", 'r')\n",
    "#small_training_data_file = open(\"zalando/mnist_train_100.csv\", 'r')\n",
    "small_training_records = small_training_data_file.readlines()\n",
    "small_training_data_file.close()\n",
    "\n",
    "small_test_data_file = open(\"mnist_test_10.csv\", 'r')\n",
    "#small_test_data_file = open(\"zalando/mnist_test_10.csv\", 'r')\n",
    "small_test_records = small_test_data_file.readlines()\n",
    "small_test_data_file.close()"
   ]
  },
  {
   "cell_type": "markdown",
   "metadata": {},
   "source": [
    "### Render train sample"
   ]
  },
  {
   "cell_type": "code",
   "execution_count": 71,
   "metadata": {},
   "outputs": [
    {
     "data": {
      "image/png": "[encoded data removed]",
      "text/plain": [
       "<matplotlib.figure.Figure at 0x1073b6250>"
      ]
     },
     "metadata": {},
     "output_type": "display_data"
    }
   ],
   "source": [
    "sample_training_record = small_training_records[2]\n",
    "render_record(sample_training_record)"
   ]
  },
  {
   "cell_type": "markdown",
   "metadata": {},
   "source": [
    "### Train"
   ]
  },
  {
   "cell_type": "code",
   "execution_count": 105,
   "metadata": {},
   "outputs": [],
   "source": [
    "train(network=mnist_nn, epochs=5, records=small_training_records)"
   ]
  },
  {
   "cell_type": "markdown",
   "metadata": {},
   "source": [
    "### Render test sample"
   ]
  },
  {
   "cell_type": "code",
   "execution_count": 73,
   "metadata": {},
   "outputs": [
    {
     "data": {
      "image/png": "[encoded data removed]",
      "text/plain": [
       "<matplotlib.figure.Figure at 0x106607210>"
      ]
     },
     "metadata": {},
     "output_type": "display_data"
    }
   ],
   "source": [
    "sample_test_record = small_test_records[3]\n",
    "render_record(sample_test_record)"
   ]
  },
  {
   "cell_type": "markdown",
   "metadata": {},
   "source": [
    "### Scores"
   ]
  },
  {
   "cell_type": "code",
   "execution_count": 80,
   "metadata": {},
   "outputs": [
    {
     "name": "stdout",
     "output_type": "stream",
     "text": [
      "test value 0 is 0 with 0.771757 certainty\n"
     ]
    }
   ],
   "source": [
    "inputs = get_scaled_inputs(sample_test_record)\n",
    "label = get_label(sample_test_record)\n",
    "outputs = nn.query(inputs)\n",
    "output_value = numpy.argmax(outputs)\n",
    "certainty = outputs[output_value][0]\n",
    "print \"test value {} is {} with {:f} certainty\".format(label, output_value, certainty)"
   ]
  },
  {
   "cell_type": "code",
   "execution_count": 108,
   "metadata": {},
   "outputs": [
    {
     "data": {
      "text/plain": [
       "'all-over accuracy = 0.7'"
      ]
     },
     "execution_count": 108,
     "metadata": {},
     "output_type": "execute_result"
    }
   ],
   "source": [
    "scores = get_scores(mnist_nn, small_test_records)\n",
    "\"all-over accuracy = {}\".format(float(numpy.asarray(scores).sum()) / len(scores))"
   ]
  },
  {
   "cell_type": "markdown",
   "metadata": {},
   "source": [
    "## Full data set"
   ]
  },
  {
   "cell_type": "markdown",
   "metadata": {},
   "source": [
    "### Load"
   ]
  },
  {
   "cell_type": "code",
   "execution_count": 109,
   "metadata": {},
   "outputs": [],
   "source": [
    "full_training_data_file = open(\"mnist_train.csv\", 'r')\n",
    "#full_training_data_file = open(\"zalando/mnist_train.csv\", 'r')\n",
    "full_training_records = full_training_data_file.readlines()\n",
    "full_training_data_file.close()\n",
    "\n",
    "full_test_data_file = open(\"mnist_test.csv\", 'r')\n",
    "#full_test_data_file = open(\"zalando/mnist_test.csv\", 'r')\n",
    "full_test_records = full_test_data_file.readlines()\n",
    "full_test_data_file.close()"
   ]
  },
  {
   "cell_type": "markdown",
   "metadata": {},
   "source": [
    "### Train"
   ]
  },
  {
   "cell_type": "code",
   "execution_count": 110,
   "metadata": {},
   "outputs": [],
   "source": [
    "train(network=mnist_nn, epochs=5, records=full_training_records)"
   ]
  },
  {
   "cell_type": "markdown",
   "metadata": {},
   "source": [
    "### Scores"
   ]
  },
  {
   "cell_type": "code",
   "execution_count": 113,
   "metadata": {},
   "outputs": [
    {
     "data": {
      "text/plain": [
       "'all-over accuracy = 0.9733'"
      ]
     },
     "execution_count": 113,
     "metadata": {},
     "output_type": "execute_result"
    }
   ],
   "source": [
    "scores = get_scores(mnist_nn, full_test_records)\n",
    "\"all-over accuracy = {}\".format(float(numpy.asarray(scores).sum()) / len(scores))"
   ]
  },
  {
   "cell_type": "markdown",
   "metadata": {
    "collapsed": true
   },
   "source": [
    "# Try with different learning rate/epoch parameters"
   ]
  },
  {
   "cell_type": "code",
   "execution_count": 195,
   "metadata": {},
   "outputs": [
    {
     "data": {
      "text/plain": [
       "'accuracy = 0.500000'"
      ]
     },
     "execution_count": 195,
     "metadata": {},
     "output_type": "execute_result"
    }
   ],
   "source": [
    "learning_rate = 0.2\n",
    "no_of_hidden_nodes = 200\n",
    "nn2 = NeuralNetwork(no_of_input_nodes, no_of_hidden_nodes, no_of_output_nodes, learning_rate)\n",
    "\n",
    "train(network=nn2, epochs=10, data_list=small_training_data_lines)\n",
    "\n",
    "scores = get_scores(nn2, full_test_records)\n",
    "\"accuracy = {:f}\".format(float(numpy.asarray(scores).sum()) / len(scores))"
   ]
  },
  {
   "cell_type": "markdown",
   "metadata": {},
   "source": [
    "# Backquery test"
   ]
  },
  {
   "cell_type": "code",
   "execution_count": 132,
   "metadata": {},
   "outputs": [
    {
     "data": {
      "text/plain": [
       "<matplotlib.image.AxesImage at 0x1093a6710>"
      ]
     },
     "execution_count": 132,
     "metadata": {},
     "output_type": "execute_result"
    },
    {
     "data": {
      "image/png": "[encoded data removed]",
      "text/plain": [
       "<matplotlib.figure.Figure at 0x1091de438>"
      ]
     },
     "metadata": {},
     "output_type": "display_data"
    }
   ],
   "source": [
    "# label to test\n",
    "label = 8\n",
    "# create the output signals for this label\n",
    "targets = numpy.zeros(no_of_output_nodes) + 0.01\n",
    "# all_values[0] is the target label for this record\n",
    "targets[label] = 0.99\n",
    "\n",
    "# get image data\n",
    "image_data = mnist_nn.backquery(targets)\n",
    "\n",
    "# plot image data\n",
    "plt.imshow(image_data.reshape(28,28), cmap='Greys', interpolation='None')"
   ]
  },
  {
   "cell_type": "code",
   "execution_count": null,
   "metadata": {
    "collapsed": true
   },
   "outputs": [],
   "source": []
  }
 ],
 "metadata": {
  "celltoolbar": "Slideshow",
  "kernelspec": {
   "display_name": "Python 3",
   "language": "python",
   "name": "python3"
  },
  "language_info": {
   "codemirror_mode": {
    "name": "ipython",
    "version": 3
   },
   "file_extension": ".py",
   "mimetype": "text/x-python",
   "name": "python",
   "nbconvert_exporter": "python",
   "pygments_lexer": "ipython3",
   "version": "3.5.1"
  }
 },
 "nbformat": 4,
 "nbformat_minor": 2
}
